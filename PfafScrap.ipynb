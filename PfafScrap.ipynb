{
 "cells": [
  {
   "cell_type": "markdown",
   "metadata": {},
   "source": [
    "# A scrapper to extract infos about a plant from pfaf"
   ]
  },
  {
   "cell_type": "code",
   "execution_count": 2,
   "metadata": {},
   "outputs": [],
   "source": [
    "import requests\n",
    "from bs4 import BeautifulSoup\n",
    "import json\n",
    "import csv \n",
    "import os\n",
    "import urllib.request"
   ]
  },
  {
   "cell_type": "code",
   "execution_count": 161,
   "metadata": {},
   "outputs": [],
   "source": [
    "class PfafScrapper:\n",
    "    \n",
    "    base_url = 'https://pfaf.org/user/Plant.aspx?LatinName='\n",
    "    base_url2 ='https://pfaf.org/'\n",
    "\n",
    "    \n",
    "    def fetch_page(self,query='',url=''):\n",
    "        if url=='':\n",
    "            query = query.replace(' ','+')\n",
    "            url= self.base_url+query\n",
    "        response = requests.get(url)\n",
    "        \n",
    "        return (response)\n",
    "\n",
    "    def get_imgs(self,response):\n",
    "        img_urls=[]\n",
    "        if response.status_code == 200:\n",
    "            soup = BeautifulSoup(response.content, 'html.parser')\n",
    "            section_img=soup.find('table',id= \"ContentPlaceHolder1_tblPlantImges\")\n",
    "            for i in section_img.find_all('img'):\n",
    "                img_urls.append(self.base_url2+i['src'][3:])\n",
    "        return img_urls\n",
    "\n",
    "    def get_characteristics(self,response):\n",
    "        if response.status_code == 200:\n",
    "            soup = BeautifulSoup(response.content, 'html.parser')\n",
    "            section_char=soup.find('span',id= \"ContentPlaceHolder1_lblPhystatment\")\n",
    "        return section_char.text\n",
    "\n",
    "\n",
    "    def get_edibles(self,response):\n",
    "\n",
    "        if response.status_code == 200:\n",
    "            #From an html doc (plante) extract all text containing edible parts and edible use\n",
    "            soup=BeautifulSoup(response.content, \"html.parser\")\n",
    "            section_rating = soup.find(\"span\", id=\"ContentPlaceHolder1_txtEdrating\")\n",
    "            edible_rating = section_rating.string\n",
    "            if edible_rating!=None:\n",
    "                edible_rating=edible_rating[-8:]\n",
    "    \n",
    "\n",
    "            section_edibles=soup.find(\"span\", id=\"ContentPlaceHolder1_txtEdibleUses\")\n",
    "            tags = section_edibles.strings\n",
    "            edibles=[str(i) for i in tags if str(i)!='\\xa0\\xa0']\n",
    "            \n",
    "            try :\n",
    "                #From the list extracted, identify and stock each edible part and uses for this plant \n",
    "                edible_use_index=edibles.index('Edible Uses: ')\n",
    "            except :\n",
    "                #there is some plantes that has not an edible part mentionned in the website so we just stock their edible us\n",
    "                edible_parts=[]\n",
    "                edible_use_index=-1\n",
    "            else:\n",
    "                edible_parts=edibles[1:edible_use_index]\n",
    "            \n",
    "            if edible_use_index==len(edibles) or len(edibles)==0:\n",
    "                edible_uses=[]\n",
    "            else :\n",
    "                edible_uses=edibles[edible_use_index+1:-1]\n",
    "\n",
    "            try :\n",
    "                edible_desc=edibles[-1]\n",
    "            except :\n",
    "                edible_desc=''\n",
    "\n",
    "        \n",
    "        return edible_rating,edible_parts,edible_uses,edible_desc\n",
    "        "
   ]
  },
  {
   "cell_type": "code",
   "execution_count": 166,
   "metadata": {},
   "outputs": [],
   "source": [
    "class plante:\n",
    "    img_urls=[]\n",
    "    descriptif = ''\n",
    "    edible_rating,edible_parts,edible_uses,edible_desc=None,[],[],''"
   ]
  },
  {
   "cell_type": "code",
   "execution_count": 162,
   "metadata": {},
   "outputs": [],
   "source": [
    "scrapper = PfafScrapper()"
   ]
  },
  {
   "cell_type": "code",
   "execution_count": 163,
   "metadata": {},
   "outputs": [],
   "source": [
    "response = scrapper.fetch_page(query=\"Campanula rotundifolia\")"
   ]
  },
  {
   "cell_type": "code",
   "execution_count": 135,
   "metadata": {},
   "outputs": [
    {
     "data": {
      "text/plain": [
       "[]"
      ]
     },
     "execution_count": 135,
     "metadata": {},
     "output_type": "execute_result"
    }
   ],
   "source": [
    "scrapper.get_imgs(response)"
   ]
  },
  {
   "cell_type": "code",
   "execution_count": 164,
   "metadata": {},
   "outputs": [
    {
     "data": {
      "text/plain": [
       "('(1 of 5)', [], [], 'Leaves - raw or cooked[K].')"
      ]
     },
     "execution_count": 164,
     "metadata": {},
     "output_type": "execute_result"
    }
   ],
   "source": [
    "scrapper.get_edibles(response)"
   ]
  },
  {
   "cell_type": "code",
   "execution_count": 131,
   "metadata": {},
   "outputs": [
    {
     "data": {
      "text/plain": [
       "0"
      ]
     },
     "execution_count": 131,
     "metadata": {},
     "output_type": "execute_result"
    }
   ],
   "source": [
    "lis=[]\n",
    "len(lis)"
   ]
  },
  {
   "cell_type": "code",
   "execution_count": 167,
   "metadata": {},
   "outputs": [],
   "source": [
    "plante=plante()"
   ]
  },
  {
   "cell_type": "code",
   "execution_count": 168,
   "metadata": {},
   "outputs": [],
   "source": [
    "plante.img_urls=['ww.50.fr']"
   ]
  },
  {
   "cell_type": "code",
   "execution_count": 169,
   "metadata": {},
   "outputs": [
    {
     "data": {
      "text/plain": [
       "['ww.50.fr']"
      ]
     },
     "execution_count": 169,
     "metadata": {},
     "output_type": "execute_result"
    }
   ],
   "source": [
    "plante.img_urls"
   ]
  },
  {
   "cell_type": "code",
   "execution_count": null,
   "metadata": {},
   "outputs": [],
   "source": []
  }
 ],
 "metadata": {
  "interpreter": {
   "hash": "7b086d117d6548b51d95680de45e6f4bc6ec102daeb0f60210a6985939527390"
  },
  "kernelspec": {
   "display_name": "Python 3.9.7 64-bit ('ipykernel_py2': conda)",
   "language": "python",
   "name": "python3"
  },
  "language_info": {
   "codemirror_mode": {
    "name": "ipython",
    "version": 3
   },
   "file_extension": ".py",
   "mimetype": "text/x-python",
   "name": "python",
   "nbconvert_exporter": "python",
   "pygments_lexer": "ipython3",
   "version": "3.9.7"
  },
  "orig_nbformat": 4
 },
 "nbformat": 4,
 "nbformat_minor": 2
}
